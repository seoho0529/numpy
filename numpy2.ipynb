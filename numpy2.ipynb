{
  "nbformat": 4,
  "nbformat_minor": 0,
  "metadata": {
    "colab": {
      "provenance": [],
      "authorship_tag": "ABX9TyMbqw4/k1FwziZApZgA9AoO",
      "include_colab_link": true
    },
    "kernelspec": {
      "name": "python3",
      "display_name": "Python 3"
    },
    "language_info": {
      "name": "python"
    }
  },
  "cells": [
    {
      "cell_type": "markdown",
      "metadata": {
        "id": "view-in-github",
        "colab_type": "text"
      },
      "source": [
        "<a href=\"https://colab.research.google.com/github/seoho0529/numpy/blob/main/numpy2.ipynb\" target=\"_parent\"><img src=\"https://colab.research.google.com/assets/colab-badge.svg\" alt=\"Open In Colab\"/></a>"
      ]
    },
    {
      "cell_type": "code",
      "execution_count": 7,
      "metadata": {
        "colab": {
          "base_uri": "https://localhost:8080/"
        },
        "id": "-5hpQDw9Bdi4",
        "outputId": "61319d58-6696-4087-bf15-09bafdac609e"
      },
      "outputs": [
        {
          "output_type": "stream",
          "name": "stdout",
          "text": [
            "[[1. 2.]\n",
            " [3. 4.]] float64\n",
            "[[5. 6.]\n",
            " [7. 8.]] float32\n",
            "[[ 6.  8.]\n",
            " [10. 12.]]\n",
            "[[ 6.  8.]\n",
            " [10. 12.]]\n",
            "[9.75385726e-01 9.33680541e-01 7.45905918e-01 ... 4.51309592e-01\n",
            " 1.16639619e-04 3.26227531e-01]\n",
            "81.3 ms ± 19.3 ms per loop (mean ± std. dev. of 7 runs, 10 loops each)\n"
          ]
        }
      ],
      "source": [
        "# 배열 연산\n",
        "import numpy as np\n",
        "\n",
        "x = np.array([[1,2],[3,4]], dtype=np.float64)\n",
        "y = np.arange(5,9).reshape((2,2))  # 5부터9까지 , 2행2열\n",
        "y = y.astype(np.float32)  # astype을 통해 형변환 가능\n",
        "print(x, x.dtype)\n",
        "print(y, y.dtype)\n",
        "\n",
        "print(x + y)  # -, *, /\n",
        "print(np.add(x, y))  # substract, multiply, divide\n",
        "\n",
        "# 참고 : 연산 속도\n",
        "big_arr = np.random.rand(1000000)\n",
        "print(big_arr)\n",
        "%timeit sum(big_arr)   # python함수 : sum"
      ]
    },
    {
      "cell_type": "code",
      "source": [
        "%timeit np.sum(big_arr)  # numpy함수 : sum\n",
        "# python함수보다 numpy함수의 연산 속도가 더 빠르다."
      ],
      "metadata": {
        "colab": {
          "base_uri": "https://localhost:8080/"
        },
        "id": "jNaLe279DZJS",
        "outputId": "6696c31c-1cfb-42b7-8cc3-1f91b9c50a6d"
      },
      "execution_count": 10,
      "outputs": [
        {
          "output_type": "stream",
          "name": "stdout",
          "text": [
            "217 µs ± 4.78 µs per loop (mean ± std. dev. of 7 runs, 1000 loops each)\n"
          ]
        }
      ]
    },
    {
      "cell_type": "code",
      "source": [
        "# 벡터연산(내적)\n",
        "v = np.array([9, 10])\n",
        "w = np.array([11, 12])\n",
        "print(v * w)         # 일반 곱셈,, [ 99 120]\n",
        "print(v.dot(w))      # 219 = (9*11) + (10*12)\n",
        "print(np.dot(v, w))  # 219\n",
        "print(x.dot(v))      # [29 = 1*9 + 2*10. 67 = 3*9 + 4*10.]\n",
        "print(x.dot(y))"
      ],
      "metadata": {
        "colab": {
          "base_uri": "https://localhost:8080/"
        },
        "id": "n1NXC7t1D_Dq",
        "outputId": "b7220310-a522-4cdd-8c0f-6194ab66994d"
      },
      "execution_count": 16,
      "outputs": [
        {
          "output_type": "stream",
          "name": "stdout",
          "text": [
            "[ 99 120]\n",
            "219\n",
            "219\n",
            "[29. 67.]\n",
            "[[19. 22.]\n",
            " [43. 50.]]\n"
          ]
        }
      ]
    },
    {
      "cell_type": "code",
      "source": [
        "# numpy는 연산을 위한 함수들을 제공한다.\n",
        "print(np.sum(x))          # 모든 요소들의 합 - 10.0\n",
        "print(np.sum(x, axis=0))  # 열에 대한 합 - [4. 6.]\n",
        "print(np.sum(x, axis=1))  # 행에 대한 합 - [3. 7.]\n",
        "print(np.mean(x))     # 평균\n",
        "print(np.argmax(x))   # 요소 중 가장 큰 값의 순번(최대값의 인덱스번호)\n",
        "print(np.sqrt(x))\n",
        "print(np.cumsum(x))   # 누적합"
      ],
      "metadata": {
        "colab": {
          "base_uri": "https://localhost:8080/"
        },
        "id": "ICaMb-FMHUAf",
        "outputId": "e7ca6a2d-f08d-4a75-96b9-a202189c4e41"
      },
      "execution_count": 23,
      "outputs": [
        {
          "output_type": "stream",
          "name": "stdout",
          "text": [
            "10.0\n",
            "[4. 6.]\n",
            "[3. 7.]\n",
            "2.5\n",
            "3\n",
            "[[1.         1.41421356]\n",
            " [1.73205081 2.        ]]\n",
            "[ 1.  3.  6. 10.]\n"
          ]
        }
      ]
    },
    {
      "cell_type": "code",
      "source": [
        "names = np.array(['tom','james','tom','oscar'])\n",
        "names2 = np.array(['tom','page','john'])\n",
        "print(np.unique(names))  # 중복 배제\n",
        "print(np.intersect1d(names, names2))  # 교집합 - 중복 허용 X\n",
        "print(np.intersect1d(names, names2, assume_unique=True)) # 교집합 - 중복 허용\n",
        "print(np.union1d(names, names2))  # 합집합"
      ],
      "metadata": {
        "colab": {
          "base_uri": "https://localhost:8080/"
        },
        "id": "zQfrZ6-TIYHW",
        "outputId": "e271bd92-7f32-49ba-9e96-f9f9dfe63493"
      },
      "execution_count": 28,
      "outputs": [
        {
          "output_type": "stream",
          "name": "stdout",
          "text": [
            "['james' 'oscar' 'tom']\n",
            "['tom']\n",
            "['tom' 'tom']\n",
            "['james' 'john' 'oscar' 'page' 'tom']\n"
          ]
        }
      ]
    },
    {
      "cell_type": "code",
      "source": [
        "# 전치(transpose) - 행렬의 위치를 바꿈\n",
        "print(x)\n",
        "print(x.T)"
      ],
      "metadata": {
        "colab": {
          "base_uri": "https://localhost:8080/"
        },
        "id": "yU1BEikeJgtU",
        "outputId": "1d86b56f-b48e-414a-dfb9-9c95e1f8736a"
      },
      "execution_count": 30,
      "outputs": [
        {
          "output_type": "stream",
          "name": "stdout",
          "text": [
            "[[1. 2.]\n",
            " [3. 4.]]\n",
            "[[1. 3.]\n",
            " [2. 4.]]\n"
          ]
        }
      ]
    },
    {
      "cell_type": "code",
      "source": [
        "# Broadcasting : 크기가 다른 배열 간의 연산 시, 작은 배열은 큰 배열에 맞춰져 연산한다.\n",
        "x = np.arange(1, 10).reshape(3,3)\n",
        "print(x)  # 3행3열\n",
        "print()\n",
        "y = np.array([1,0,1])\n",
        "print(y)  # 1행3열\n",
        "print()\n",
        "z = np.empty_like(x)\n",
        "#print(z)\n",
        "\n",
        "print()\n",
        "for i in range(3):\n",
        "  z[i] = x[i] + y\n",
        "print(z)\n",
        "\n",
        "print()\n",
        "kbs = x + y\n",
        "print(kbs)  # for문을 돌리지않고 그냥 행렬 더하기 해도 값이 같음\n",
        "\n",
        "print('배열 자료를 파일 i/o')\n",
        "print(x)\n",
        "np.savetxt('my.txt', x)\n",
        "print()\n",
        "my2 = np.loadtxt('my.txt')\n",
        "print(my2)"
      ],
      "metadata": {
        "colab": {
          "base_uri": "https://localhost:8080/"
        },
        "id": "HRm6Jyx_JzFp",
        "outputId": "7659435e-4b87-47e4-b872-1f8096fd17eb"
      },
      "execution_count": 44,
      "outputs": [
        {
          "output_type": "stream",
          "name": "stdout",
          "text": [
            "[[1 2 3]\n",
            " [4 5 6]\n",
            " [7 8 9]]\n",
            "\n",
            "[1 0 1]\n",
            "\n",
            "\n",
            "[[ 2  2  4]\n",
            " [ 5  5  7]\n",
            " [ 8  8 10]]\n",
            "\n",
            "[[ 2  2  4]\n",
            " [ 5  5  7]\n",
            " [ 8  8 10]]\n",
            "배열 자료를 파일 i/o\n",
            "[[1 2 3]\n",
            " [4 5 6]\n",
            " [7 8 9]]\n",
            "\n",
            "[[1. 2. 3.]\n",
            " [4. 5. 6.]\n",
            " [7. 8. 9.]]\n"
          ]
        }
      ]
    }
  ]
}