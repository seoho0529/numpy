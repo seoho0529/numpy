{
  "nbformat": 4,
  "nbformat_minor": 0,
  "metadata": {
    "colab": {
      "provenance": [],
      "authorship_tag": "ABX9TyOldtUhLrBbRCJfqEcFeWMx",
      "include_colab_link": true
    },
    "kernelspec": {
      "name": "python3",
      "display_name": "Python 3"
    },
    "language_info": {
      "name": "python"
    }
  },
  "cells": [
    {
      "cell_type": "markdown",
      "metadata": {
        "id": "view-in-github",
        "colab_type": "text"
      },
      "source": [
        "<a href=\"https://colab.research.google.com/github/seoho0529/numpy/blob/main/numpy1.ipynb\" target=\"_parent\"><img src=\"https://colab.research.google.com/assets/colab-badge.svg\" alt=\"Open In Colab\"/></a>"
      ]
    },
    {
      "cell_type": "code",
      "execution_count": 6,
      "metadata": {
        "id": "RTs1gFeeyNd2",
        "colab": {
          "base_uri": "https://localhost:8080/"
        },
        "outputId": "0bccc0a3-eeb5-4c67-e3d0-041eaeb9588f"
      },
      "outputs": [
        {
          "output_type": "stream",
          "name": "stdout",
          "text": [
            "Linux 29f01a2bf7a1 5.15.120+ #1 SMP Wed Aug 30 11:19:59 UTC 2023 x86_64 x86_64 x86_64 GNU/Linux\n",
            "DISTRIB_ID=Ubuntu\n",
            "DISTRIB_RELEASE=22.04\n",
            "DISTRIB_CODENAME=jammy\n",
            "DISTRIB_DESCRIPTION=\"Ubuntu 22.04.2 LTS\"\n",
            "PRETTY_NAME=\"Ubuntu 22.04.2 LTS\"\n",
            "NAME=\"Ubuntu\"\n",
            "VERSION_ID=\"22.04\"\n",
            "VERSION=\"22.04.2 LTS (Jammy Jellyfish)\"\n",
            "VERSION_CODENAME=jammy\n",
            "ID=ubuntu\n",
            "ID_LIKE=debian\n",
            "HOME_URL=\"https://www.ubuntu.com/\"\n",
            "SUPPORT_URL=\"https://help.ubuntu.com/\"\n",
            "BUG_REPORT_URL=\"https://bugs.launchpad.net/ubuntu/\"\n",
            "PRIVACY_POLICY_URL=\"https://www.ubuntu.com/legal/terms-and-policies/privacy-policy\"\n",
            "UBUNTU_CODENAME=jammy\n",
            "This system has been minimized by removing packages and content that are\n",
            "not required on a system that users do not log into.\n",
            "\n",
            "To restore this content, including manpages, you can run the 'unminimize'\n",
            "command. You will still need to ensure the 'man-db' package is installed.\n"
          ]
        }
      ],
      "source": [
        "!uname -a\n",
        "!cat /etc/*release\n",
        "!man"
      ]
    },
    {
      "cell_type": "code",
      "source": [
        "grades = [1,3,-2,4]\n",
        "\n",
        "def grades_sum(grades):\n",
        "  tot=0\n",
        "  for g in grades:\n",
        "    tot += g\n",
        "    return tot\n",
        "\n",
        "def grades_avg(grades):\n",
        "  tot = grades_sum(grades)\n",
        "  ave = tot/len(grades)\n",
        "  return ave\n",
        "\n",
        "def grades_variance(grades):\n",
        "  ave = grades_avg(grades)\n",
        "  vari = 0\n",
        "  for su in grades:\n",
        "    vari += (su - ave) ** 2  # 편차 제곱의 합\n",
        "    return vari / len(grades)  # 모집단으로 계산\n",
        "    return vari / (len(grades) - 1) # 표본집단으로 계산(n-1)\n",
        "\n",
        "def grades_std(grades):\n",
        "  return grades_variance(grades) ** 0.5\n"
      ],
      "metadata": {
        "id": "LdCvcfb59bOq"
      },
      "execution_count": 15,
      "outputs": []
    },
    {
      "cell_type": "code",
      "source": [
        "print('합은', grades_sum(grades))\n",
        "print('평균은', grades_avg(grades))\n",
        "print('분산은', grades_variance(grades))\n",
        "print('표준편차는', grades_std(grades))\n",
        "\n",
        "import numpy as np\n",
        "print('합은', np.sum(grades))\n",
        "print('평균은', np.mean(grades), ' ', np.average(grades))\n",
        "print('분산은', np.var(grades))\n",
        "print('표준편차는', np.std(grades))"
      ],
      "metadata": {
        "colab": {
          "base_uri": "https://localhost:8080/"
        },
        "id": "n2W5LMJ29tFP",
        "outputId": "10d43fe9-04e1-40db-ae6d-e23535a3897c"
      },
      "execution_count": 17,
      "outputs": [
        {
          "output_type": "stream",
          "name": "stdout",
          "text": [
            "합은 1\n",
            "평균은 0.25\n",
            "분산은 0.140625\n",
            "표준편차는 0.375\n",
            "합은 6\n",
            "평균은 1.5   1.5\n",
            "분산은 5.25\n",
            "표준편차는 2.29128784747792\n"
          ]
        }
      ]
    },
    {
      "cell_type": "code",
      "source": [
        "#numpy모듈(라이브러리)\n",
        "#다차원 배열 자료구조인 ndarray, 선형대수 계산, 벡터 연산, 미적분 등을 지원\n",
        "import numpy as np\n",
        "ss = ['tom','oscar','john',12,12.3]\n",
        "print(ss, type(ss))\n",
        "ss2 = np.array(ss) # list를 ndarray로 변환. 같은 타입으로 요소값이 구성. 상위 타입으로 변환 int -> float -> complex -> string\n",
        "print(ss2, type(ss2))"
      ],
      "metadata": {
        "colab": {
          "base_uri": "https://localhost:8080/"
        },
        "id": "tkqEl_z89xSc",
        "outputId": "4c47526a-58b8-4f4d-c953-29d08680498a"
      },
      "execution_count": 22,
      "outputs": [
        {
          "output_type": "stream",
          "name": "stdout",
          "text": [
            "['tom', 'oscar', 'john', 12, 12.3] <class 'list'>\n",
            "['tom' 'oscar' 'john' '12' '12.3'] <class 'numpy.ndarray'>\n"
          ]
        }
      ]
    },
    {
      "cell_type": "code",
      "source": [
        "# 메모리 비교(list vs ndarray)\n",
        "# list\n",
        "li = list(range(1, 10))\n",
        "print(li)\n",
        "print(id(li[0]), id(li[1]))  # 요소값 하나하나가 별도의 인스턴스이기 때문에 주소가 다름\n",
        "print(li * 10)\n",
        "for i in li:\n",
        "  print(i * 10, end=' ')\n",
        "\n",
        "print('\\n')\n",
        "# ndarray\n",
        "num_arr = np.array(li)\n",
        "print(num_arr)\n",
        "print(id(num_arr[0]), id(num_arr[1]))\n",
        "print(num_arr*10)  # 벡터 연산"
      ],
      "metadata": {
        "colab": {
          "base_uri": "https://localhost:8080/"
        },
        "id": "1T7HGHm_HCf_",
        "outputId": "d43859b3-7706-4ae0-ce21-ad6b5e60bbba"
      },
      "execution_count": 28,
      "outputs": [
        {
          "output_type": "stream",
          "name": "stdout",
          "text": [
            "[1, 2, 3, 4, 5, 6, 7, 8, 9]\n",
            "135607487283440 135607487283472\n",
            "[1, 2, 3, 4, 5, 6, 7, 8, 9, 1, 2, 3, 4, 5, 6, 7, 8, 9, 1, 2, 3, 4, 5, 6, 7, 8, 9, 1, 2, 3, 4, 5, 6, 7, 8, 9, 1, 2, 3, 4, 5, 6, 7, 8, 9, 1, 2, 3, 4, 5, 6, 7, 8, 9, 1, 2, 3, 4, 5, 6, 7, 8, 9, 1, 2, 3, 4, 5, 6, 7, 8, 9, 1, 2, 3, 4, 5, 6, 7, 8, 9, 1, 2, 3, 4, 5, 6, 7, 8, 9]\n",
            "10 20 30 40 50 60 70 80 90 \n",
            "\n",
            "[1 2 3 4 5 6 7 8 9]\n",
            "135606215310224 135606215310224\n",
            "[10 20 30 40 50 60 70 80 90]\n"
          ]
        }
      ]
    },
    {
      "cell_type": "code",
      "source": [
        "a = np.array([1,2,3])  # 1차원 배열\n",
        "print(a, type(a), a.dtype, a.shape, a.size)  # [1 2 3] <class 'numpy.ndarray'> int64 (3,) 3\n",
        "print(a[0], a[2])\n",
        "a[0] = 7\n",
        "print(a)"
      ],
      "metadata": {
        "colab": {
          "base_uri": "https://localhost:8080/"
        },
        "id": "zRAOfYTbLSfS",
        "outputId": "cf3478d0-3c35-4f98-d7c5-634894045be6"
      },
      "execution_count": 30,
      "outputs": [
        {
          "output_type": "stream",
          "name": "stdout",
          "text": [
            "[1 2 3] <class 'numpy.ndarray'> int64 (3,) 3\n",
            "1 3\n",
            "[7 2 3]\n"
          ]
        }
      ]
    },
    {
      "cell_type": "code",
      "source": [
        "b = np.array([[1,2,3],[4,5,6]], dtype='float32') # 2차원 배열, 2행3열\n",
        "print(b, type(a), b.dtype, b.shape, b.size)\n",
        "print(b[0,0], b[0,2]) # 0행 0열 : 1, 0행 2열 ; 3\n",
        "print(b[[0]])  # 0행 [[1,2,3]]"
      ],
      "metadata": {
        "colab": {
          "base_uri": "https://localhost:8080/"
        },
        "id": "bcAT0mX-MPaR",
        "outputId": "3729a21f-e7f1-4951-a139-ac259533a425"
      },
      "execution_count": 34,
      "outputs": [
        {
          "output_type": "stream",
          "name": "stdout",
          "text": [
            "[[1. 2. 3.]\n",
            " [4. 5. 6.]] <class 'numpy.ndarray'> float32 (2, 3) 6\n",
            "1.0 3.0\n",
            "[[1. 2. 3.]]\n"
          ]
        }
      ]
    },
    {
      "cell_type": "code",
      "source": [
        "c = np.zeros((2,2))  # 2행2열을 0으로 채우기\n",
        "print(c)\n",
        "d = np.ones((2,2)) # 2행 2열 1로 채우기\n",
        "print(d)\n",
        "e = np.full((2,2), 7) # 2행 2열 7로 채우기\n",
        "print(e)\n",
        "f = np.eye(3)  # 정방행렬 3행3열\n",
        "print(f)"
      ],
      "metadata": {
        "colab": {
          "base_uri": "https://localhost:8080/"
        },
        "id": "58Jzu2J3NYby",
        "outputId": "3bd268ff-fb3b-41e9-f579-0baafe65c91d"
      },
      "execution_count": 37,
      "outputs": [
        {
          "output_type": "stream",
          "name": "stdout",
          "text": [
            "[[0. 0.]\n",
            " [0. 0.]]\n",
            "[[1. 1.]\n",
            " [1. 1.]]\n",
            "[[7 7]\n",
            " [7 7]]\n",
            "[[1. 0. 0.]\n",
            " [0. 1. 0.]\n",
            " [0. 0. 1.]]\n"
          ]
        }
      ]
    },
    {
      "cell_type": "code",
      "source": [
        "np.random.seed(0)  # 난수 고\n",
        "print(np.random.rand(5))  # 균등분포를 따르는 난수\n",
        "print(np.random.randn(5)) # 정규분포를 따르는 난수\n",
        "\n",
        "print(np.random.randint(10, size=6)) # 1차원 -- 벡터\n",
        "print(np.random.randint(10, size=(3,4))) # 2차원 - 3행4열 -- 매트릭스\n",
        "print(np.random.randint(10, size=(3,4,5))) # 3차원 - 3면 4행5열"
      ],
      "metadata": {
        "colab": {
          "base_uri": "https://localhost:8080/"
        },
        "id": "OI8QWHCtOW6p",
        "outputId": "d0cf7d12-aa3e-4eee-8ed3-711139ebcbfd"
      },
      "execution_count": 44,
      "outputs": [
        {
          "output_type": "stream",
          "name": "stdout",
          "text": [
            "[0.5488135  0.71518937 0.60276338 0.54488318 0.4236548 ]\n",
            "[-0.84272405  1.96992445  1.26611853 -0.50587654  2.54520078]\n",
            "[5 9 8 9 4 3]\n",
            "[[0 3 5 0]\n",
            " [2 3 8 1]\n",
            " [3 3 3 7]]\n",
            "[[[0 1 9 9 0]\n",
            "  [4 7 3 2 7]\n",
            "  [2 0 0 4 5]\n",
            "  [5 6 8 4 1]]\n",
            "\n",
            " [[4 9 8 1 1]\n",
            "  [7 9 9 3 6]\n",
            "  [7 2 0 3 5]\n",
            "  [9 4 4 6 4]]\n",
            "\n",
            " [[4 3 4 4 8]\n",
            "  [4 3 7 5 5]\n",
            "  [0 1 5 9 3]\n",
            "  [0 5 0 1 2]]]\n"
          ]
        }
      ]
    },
    {
      "cell_type": "code",
      "source": [
        "# 인덱싱, 슬라이싱\n",
        "a = np.array([1,2,3,4,5])\n",
        "print(a)\n",
        "print(a[0])\n",
        "print(a[1:3])\n",
        "print(a[1:5:2])\n",
        "\n",
        "print()\n",
        "b = np.array([[1,2,3,4],[5,6,7,8],[9,10,11,12]])\n",
        "print(b)\n",
        "print(b[:])\n",
        "print(b[0,0])\n",
        "print(b[[0]], b[0], b[0][0])  # 0행0열 :차원유지, 0행 출력 : b[0]:차원축소   # [[1 2 3 4]] [1 2 3 4] 1\n",
        "print(b[1:, 0:2])\n",
        "\n",
        "print()\n",
        "c = b[:2, 1:3]  # sub array,, 원본 배열은 b가 가지고 있는\n",
        "print(c)\n",
        "print(c[0,0])\n",
        "c[0,0] = 99\n",
        "print(c)\n",
        "print(b)"
      ],
      "metadata": {
        "colab": {
          "base_uri": "https://localhost:8080/"
        },
        "id": "fsD0TYY7Ok_R",
        "outputId": "7e233a49-08b3-48eb-8bee-f8b7886b3d05"
      },
      "execution_count": 52,
      "outputs": [
        {
          "output_type": "stream",
          "name": "stdout",
          "text": [
            "[1 2 3 4 5]\n",
            "1\n",
            "[2 3]\n",
            "[2 4]\n",
            "\n",
            "[[ 1  2  3  4]\n",
            " [ 5  6  7  8]\n",
            " [ 9 10 11 12]]\n",
            "[[ 1  2  3  4]\n",
            " [ 5  6  7  8]\n",
            " [ 9 10 11 12]]\n",
            "1\n",
            "[[1 2 3 4]] [1 2 3 4] 1\n",
            "[[ 5  6]\n",
            " [ 9 10]]\n",
            "\n",
            "[[2 3]\n",
            " [6 7]]\n",
            "2\n",
            "[[99  3]\n",
            " [ 6  7]]\n",
            "[[ 1 99  3  4]\n",
            " [ 5  6  7  8]\n",
            " [ 9 10 11 12]]\n"
          ]
        }
      ]
    },
    {
      "cell_type": "code",
      "source": [],
      "metadata": {
        "id": "O_v1aQ_yQP10"
      },
      "execution_count": null,
      "outputs": []
    }
  ]
}