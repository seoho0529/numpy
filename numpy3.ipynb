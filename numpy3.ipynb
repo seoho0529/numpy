{
  "nbformat": 4,
  "nbformat_minor": 0,
  "metadata": {
    "colab": {
      "provenance": [],
      "authorship_tag": "ABX9TyO7sWJGF5RIH606pTRIsWtD",
      "include_colab_link": true
    },
    "kernelspec": {
      "name": "python3",
      "display_name": "Python 3"
    },
    "language_info": {
      "name": "python"
    }
  },
  "cells": [
    {
      "cell_type": "markdown",
      "metadata": {
        "id": "view-in-github",
        "colab_type": "text"
      },
      "source": [
        "<a href=\"https://colab.research.google.com/github/seoho0529/numpy/blob/main/numpy3.ipynb\" target=\"_parent\"><img src=\"https://colab.research.google.com/assets/colab-badge.svg\" alt=\"Open In Colab\"/></a>"
      ]
    },
    {
      "cell_type": "code",
      "execution_count": 6,
      "metadata": {
        "colab": {
          "base_uri": "https://localhost:8080/"
        },
        "id": "U5XPAEsWRK9t",
        "outputId": "d6684bb2-96d6-4af6-d0d2-8c032f8696a7"
      },
      "outputs": [
        {
          "output_type": "stream",
          "name": "stdout",
          "text": [
            "[[1. 0. 0.]\n",
            " [0. 1. 0.]\n",
            " [0. 0. 1.]]\n",
            "[[1. 0. 0. 0.]\n",
            " [0. 1. 0. 0.]\n",
            " [0. 0. 1. 1.]]\n",
            "[[1. 0. 0.]\n",
            " [0. 1. 0.]\n",
            " [0. 0. 1.]\n",
            " [0. 0. 1.]]\n",
            "열 추가를 이용해 행을 열로 변환이 가능하다.\n",
            "[[1]\n",
            " [2]\n",
            " [3]]\n",
            "[[1]\n",
            " [2]\n",
            " [3]]\n"
          ]
        }
      ],
      "source": [
        "# 배열에 행 또는 열 추가, 삭제\n",
        "import numpy as np\n",
        "\n",
        "aa = np.eye(3)\n",
        "print(aa)\n",
        "\n",
        "bb = np.c_[aa, aa[2]]  # 열 추가 : c_\n",
        "print(bb)\n",
        "\n",
        "cc = np.r_[aa, [aa[2]]] # 행 추가 : r_\n",
        "print(cc)\n",
        "\n",
        "print('열 추가를 이용해 행을 열로 변환이 가능하다.')\n",
        "a = np.array([1,2,3])\n",
        "print(np.c_[a])  # 1행 3열의 위치가 바뀜\n",
        "print(a.reshape((3,1)))"
      ]
    },
    {
      "cell_type": "code",
      "source": [
        "print(a)\n",
        "b = np.append(a, [4,5])\n",
        "print(b)\n",
        "c = np.insert(a, 0, [6,7])  #a의 인덱스 0번에 6,7을 삽입\n",
        "print(c)\n",
        "d = np.delete(a, 1)\n",
        "print(d)"
      ],
      "metadata": {
        "colab": {
          "base_uri": "https://localhost:8080/"
        },
        "id": "c6FUqQViS1Zl",
        "outputId": "030885bd-afaf-423f-a312-b36414118de1"
      },
      "execution_count": 11,
      "outputs": [
        {
          "output_type": "stream",
          "name": "stdout",
          "text": [
            "[1 2 3]\n",
            "[1 2 3 4 5]\n",
            "[6 7 1 2 3]\n",
            "[1 3]\n"
          ]
        }
      ]
    },
    {
      "cell_type": "code",
      "source": [
        "aa = np.arange(1, 10).reshape(3,3)\n",
        "print(aa)\n",
        "print(np.insert(aa, 1, 99))  # 1번째에 99 추가, axis가 없으면 차원 축소\n",
        "print(np.insert(aa, 1, 99, axis=0))  # 행 기준, axis가 있으면 차원 유지\n",
        "print(np.insert(aa, 1, 99, axis=1))  # 열 기준"
      ],
      "metadata": {
        "colab": {
          "base_uri": "https://localhost:8080/"
        },
        "id": "kyZxJ7RCTsh5",
        "outputId": "45710243-8984-4561-b459-dcdcbc8d88a6"
      },
      "execution_count": 16,
      "outputs": [
        {
          "output_type": "stream",
          "name": "stdout",
          "text": [
            "[[1 2 3]\n",
            " [4 5 6]\n",
            " [7 8 9]]\n",
            "[ 1 99  2  3  4  5  6  7  8  9]\n",
            "[[ 1  2  3]\n",
            " [99 99 99]\n",
            " [ 4  5  6]\n",
            " [ 7  8  9]]\n",
            "[[ 1 99  2  3]\n",
            " [ 4 99  5  6]\n",
            " [ 7 99  8  9]]\n"
          ]
        }
      ]
    },
    {
      "cell_type": "code",
      "source": [
        "bb = np.arange(11, 20).reshape(3,3)\n",
        "print(bb)\n",
        "\n",
        "cc = np.append(aa, bb)\n",
        "print(cc)  # axis가 없어서 차원이 축소됨\n",
        "\n",
        "cc = np.append(aa, bb, axis=0)  # 행\n",
        "print(cc)\n",
        "\n",
        "cc = np.append(aa, bb, axis=1)  # 열\n",
        "print(cc)"
      ],
      "metadata": {
        "colab": {
          "base_uri": "https://localhost:8080/"
        },
        "id": "7C82XKSkUkY3",
        "outputId": "c82c6a4c-6909-422b-be51-b655c4490ef0"
      },
      "execution_count": 20,
      "outputs": [
        {
          "output_type": "stream",
          "name": "stdout",
          "text": [
            "[[11 12 13]\n",
            " [14 15 16]\n",
            " [17 18 19]]\n",
            "[ 1  2  3  4  5  6  7  8  9 11 12 13 14 15 16 17 18 19]\n",
            "[[ 1  2  3]\n",
            " [ 4  5  6]\n",
            " [ 7  8  9]\n",
            " [11 12 13]\n",
            " [14 15 16]\n",
            " [17 18 19]]\n",
            "[[ 1  2  3 11 12 13]\n",
            " [ 4  5  6 14 15 16]\n",
            " [ 7  8  9 17 18 19]]\n"
          ]
        }
      ]
    },
    {
      "cell_type": "code",
      "source": [
        "print(aa)\n",
        "print(np.delete(aa,1))\n",
        "print(np.delete(aa,1,axis=0))\n",
        "print(np.delete(aa,1,axis=1))"
      ],
      "metadata": {
        "colab": {
          "base_uri": "https://localhost:8080/"
        },
        "id": "nt8HyCxGVR7l",
        "outputId": "8b2fbf26-c187-4bde-f832-0a951dd97875"
      },
      "execution_count": 24,
      "outputs": [
        {
          "output_type": "stream",
          "name": "stdout",
          "text": [
            "[[1 2 3]\n",
            " [4 5 6]\n",
            " [7 8 9]]\n",
            "[1 3 4 5 6 7 8 9]\n",
            "[[1 2 3]\n",
            " [7 8 9]]\n",
            "[[1 3]\n",
            " [4 6]\n",
            " [7 9]]\n"
          ]
        }
      ]
    },
    {
      "cell_type": "code",
      "source": [
        "# 조건 연산 : where(조건, 참, 거짓)\n",
        "x = np.array([1,2,3])\n",
        "y = np.array([4,5,6])\n",
        "conditionData = np.array([True, False, True])\n",
        "result = np.where(conditionData, x, y)\n",
        "print(result)\n",
        "\n",
        "aa = np.where(x >= 2)\n",
        "print(aa, x[aa])\n",
        "print(np.where(x >= 2, 'T','F'))\n",
        "print(np.where(x >= 2, x,x+100))\n",
        "print()\n",
        "bb = np.random.randn(4, 4)  # 정규분포를 따르는 난수 생성\n",
        "print(bb)\n",
        "print(np.where(bb > 0, 10, bb))"
      ],
      "metadata": {
        "colab": {
          "base_uri": "https://localhost:8080/"
        },
        "id": "-rB0K-KBV5LK",
        "outputId": "429760cc-bcf4-4e66-e65e-e58a810eab16"
      },
      "execution_count": 32,
      "outputs": [
        {
          "output_type": "stream",
          "name": "stdout",
          "text": [
            "[1 5 3]\n",
            "(array([1, 2]),) [2 3]\n",
            "['F' 'T' 'T']\n",
            "[101   2   3]\n",
            "\n",
            "[[ 1.134561    0.45727766  0.4619791  -0.81731722]\n",
            " [ 0.05590379  1.29147556  0.09499811 -0.5748145 ]\n",
            " [ 0.42309278  0.68484157 -0.37413196 -1.03369077]\n",
            " [ 0.61543444 -0.44121789 -0.05110512 -0.70251983]]\n",
            "[[10.         10.         10.         -0.81731722]\n",
            " [10.         10.         10.         -0.5748145 ]\n",
            " [10.         10.         -0.37413196 -1.03369077]\n",
            " [10.         -0.44121789 -0.05110512 -0.70251983]]\n"
          ]
        }
      ]
    },
    {
      "cell_type": "code",
      "source": [
        "print(x)\n",
        "print(y)\n",
        "mbc = np.concatenate([x,y])  # 배열 결합\n",
        "print(mbc)\n",
        "\n",
        "x1, x2 = np.split(mbc, 2)  # mbc를 두개로 분리\n",
        "print(x1)\n",
        "print(x2)\n",
        "\n",
        "a = np.arange(1,17).reshape(4,4)\n",
        "print(a)\n",
        "print()\n",
        "\n",
        "x1,x2 = np.hsplit(a,2)  # 좌,우로 분리\n",
        "print(x1)\n",
        "print(x2)\n",
        "print()\n",
        "\n",
        "x1,x2 = np.vsplit(a,2)  # 상, 하로 분리\n",
        "print(x1)\n",
        "print(x2)"
      ],
      "metadata": {
        "colab": {
          "base_uri": "https://localhost:8080/"
        },
        "id": "hmY6uEAwbtBj",
        "outputId": "80607a74-29bc-48f9-e2bb-8d0095d7dbd7"
      },
      "execution_count": 39,
      "outputs": [
        {
          "output_type": "stream",
          "name": "stdout",
          "text": [
            "[1 2 3]\n",
            "[4 5 6]\n",
            "[1 2 3 4 5 6]\n",
            "[1 2 3]\n",
            "[4 5 6]\n",
            "[[ 1  2  3  4]\n",
            " [ 5  6  7  8]\n",
            " [ 9 10 11 12]\n",
            " [13 14 15 16]]\n",
            "\n",
            "[[ 1  2]\n",
            " [ 5  6]\n",
            " [ 9 10]\n",
            " [13 14]]\n",
            "[[ 3  4]\n",
            " [ 7  8]\n",
            " [11 12]\n",
            " [15 16]]\n",
            "\n",
            "[[1 2 3 4]\n",
            " [5 6 7 8]]\n",
            "[[ 9 10 11 12]\n",
            " [13 14 15 16]]\n"
          ]
        }
      ]
    },
    {
      "cell_type": "code",
      "source": [
        "# sampline : 표본 추출\n",
        "li = np.array([1,2,3,4,5,6,7])\n",
        "\n",
        "# 복원 추출\n",
        "for _ in range(5):\n",
        "  print(li[np.random.randint(0, len(li) - 1)], end=' ')\n",
        "\n",
        "print()\n",
        "# 비복원 추출\n",
        "import random\n",
        "print(random.sample(list(li), k=5))\n",
        "print(random.sample(range(1,46), k=6))\n",
        "print()\n",
        "print(list(np.random.choice(range(1,46), 6)))\n",
        "print(list(np.random.choice(range(1,46), 6, replace=False)))  # 비복원\n",
        "print(list(np.random.choice(range(1,46), 6, replace=True)))   # 복원 - 중복 허용\n",
        "# numpy의 choice 함수와 python의 sample을 사용하면 복원, 비복원 추출이 가능\n",
        "\n",
        "# 가중치를 부여한 랜덤추출\n",
        "ar = 'air book cat desk e f god'\n",
        "ar = ar.split(sep=' ')\n",
        "print(ar)\n",
        "print(np.random.choice(ar,3,p=[0.1, 0.1,0.1, 0.1,0.1, 0.1,0.4]))"
      ],
      "metadata": {
        "colab": {
          "base_uri": "https://localhost:8080/"
        },
        "id": "l0NtDGJFcur6",
        "outputId": "5b8630e4-dc84-41c8-e46a-a6ef4900a733"
      },
      "execution_count": 55,
      "outputs": [
        {
          "output_type": "stream",
          "name": "stdout",
          "text": [
            "1 4 4 2 1 \n",
            "[4, 5, 2, 7, 6]\n",
            "[5, 24, 21, 1, 39, 25]\n",
            "\n",
            "[43, 25, 22, 38, 38, 8]\n",
            "[38, 4, 9, 20, 43, 31]\n",
            "[21, 13, 36, 21, 20, 10]\n",
            "['air', 'book', 'cat', 'desk', 'e', 'f', 'god']\n",
            "['god' 'god' 'god']\n"
          ]
        }
      ]
    }
  ]
}